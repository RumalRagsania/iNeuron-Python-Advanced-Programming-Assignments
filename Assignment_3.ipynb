{
 "cells": [
  {
   "cell_type": "markdown",
   "metadata": {},
   "source": [
    "# Assignment 3"
   ]
  },
  {
   "cell_type": "markdown",
   "metadata": {},
   "source": [
    "#  "
   ]
  },
  {
   "cell_type": "markdown",
   "metadata": {},
   "source": [
    "## 1. Create a function to perform basic arithmetic operations that includes addition, subtraction, multiplication and division on a string number (e.g. &quot;12 + 24&quot; or &quot;23 - 21&quot; or &quot;12 // 12&quot; or &quot;12 * 21&quot;).\n",
    "## Here, we have 1 followed by a space, operator followed by another space and 2. For the challenge, we are going to have only two numbers between 1 valid operator. The return value should be a number.\n",
    "## eval() is not allowed. In case of division, whenever the second number equals &quot;0&quot; return -1.\n",
    "## For example:\n",
    "## &quot;15 // 0&quot; ➞ -1\n",
    "## Examples\n",
    "## arithmetic_operation(&quot;12 + 12&quot;) ➞ 24 // 12 + 12 = 24\n",
    "## arithmetic_operation(&quot;12 - 12&quot;) ➞ 24 // 12 - 12 = 0\n",
    "## arithmetic_operation(&quot;12 * 12&quot;) ➞ 144 // 12 * 12 = 144\n",
    "## arithmetic_operation(&quot;12 // 0&quot;) ➞ -1 // 12 / 0 = -1"
   ]
  },
  {
   "cell_type": "markdown",
   "metadata": {},
   "source": [
    "#  "
   ]
  },
  {
   "cell_type": "markdown",
   "metadata": {},
   "source": [
    "## Ans."
   ]
  },
  {
   "cell_type": "code",
   "execution_count": 1,
   "metadata": {},
   "outputs": [],
   "source": [
    "def arithmetic_operation(string):\n",
    "    l = []\n",
    "    for item in string.split(' '):\n",
    "        l.append(item)\n",
    "    \n",
    "    if l[1] == '+':\n",
    "        return int(l[0]) + int(l[2])\n",
    "    elif l[1] == '-':\n",
    "        return int(l[0]) - int(l[2])\n",
    "    elif l[1] == '*':\n",
    "        return int(l[0]) * int(l[2])\n",
    "    else:\n",
    "        if l[2] == '0':\n",
    "            return -1\n",
    "        else:\n",
    "            return int(l[1]) // int(l[2])"
   ]
  },
  {
   "cell_type": "code",
   "execution_count": 2,
   "metadata": {},
   "outputs": [
    {
     "name": "stdout",
     "output_type": "stream",
     "text": [
      "0\n",
      "24\n",
      "144\n",
      "-1\n"
     ]
    }
   ],
   "source": [
    "print(arithmetic_operation(\"12 - 12\"))\n",
    "print(arithmetic_operation(\"12 + 12\"))\n",
    "print(arithmetic_operation(\"12 * 12\"))\n",
    "print(arithmetic_operation(\"12 // 0\"))"
   ]
  },
  {
   "cell_type": "markdown",
   "metadata": {},
   "source": [
    "#  "
   ]
  },
  {
   "cell_type": "markdown",
   "metadata": {},
   "source": [
    "## 2. Write a function that takes the coordinates of three points in the form of a 2d array and returns the perimeter of the triangle. The given points are the vertices of a triangle on a two-dimensional plane.\n",
    "## Examples\n",
    "## perimeter( [ [15, 7], [5, 22], [11, 1] ] ) ➞ 47.08\n",
    "## perimeter( [ [0, 0], [0, 1], [1, 0] ] ) ➞ 3.42\n",
    "## perimeter( [ [-10, -10], [10, 10 ], [-10, 10] ] ) ➞ 68.28"
   ]
  },
  {
   "cell_type": "markdown",
   "metadata": {},
   "source": [
    "#  "
   ]
  },
  {
   "cell_type": "markdown",
   "metadata": {},
   "source": [
    "## Ans."
   ]
  },
  {
   "cell_type": "code",
   "execution_count": 3,
   "metadata": {},
   "outputs": [],
   "source": [
    "import math\n",
    "\n",
    "def distance(coordinates):\n",
    "    \n",
    "    x1 = coordinates[0][0]\n",
    "    y1 = coordinates[1][0]\n",
    "    x2 = coordinates[0][1]\n",
    "    y2 = coordinates[1][1]\n",
    "    \n",
    "    a = (x1 - y1) * (x1 - y1)\n",
    "    b = (x2 - y2) * (x2 - y2)\n",
    "    \n",
    "    return math.sqrt(a + b)\n",
    "\n",
    "def perimeter(array):\n",
    "    \n",
    "    s1 = distance([array[0], array[1]])\n",
    "    s2 = distance([array[1], array[2]])\n",
    "    s3 = distance([array[0], array[2]])\n",
    "    \n",
    "    perimeter = s1 + s2 + s3\n",
    "    \n",
    "    return round(perimeter, 2)"
   ]
  },
  {
   "cell_type": "code",
   "execution_count": 4,
   "metadata": {},
   "outputs": [
    {
     "name": "stdout",
     "output_type": "stream",
     "text": [
      "47.08\n",
      "3.41\n",
      "68.28\n"
     ]
    }
   ],
   "source": [
    "print(perimeter( [ [15, 7], [5, 22], [11, 1] ] ))\n",
    "print(perimeter( [ [0, 0], [0, 1], [1, 0] ] ))\n",
    "print(perimeter( [ [-10, -10], [10, 10 ], [-10, 10] ] ))"
   ]
  },
  {
   "cell_type": "markdown",
   "metadata": {},
   "source": [
    "#  "
   ]
  },
  {
   "cell_type": "markdown",
   "metadata": {},
   "source": [
    "## 3. A city skyline can be represented as a 2-D list with 1s representing buildings. In the example below, the height of the tallest building is 4 (second-most right column).\n",
    "## [[0, 0, 0, 0, 0, 0],\n",
    "## [0, 0, 0, 0, 1, 0],\n",
    "## [0, 0, 1, 0, 1, 0],\n",
    "## [0, 1, 1, 1, 1, 0],\n",
    "## [1, 1, 1, 1, 1, 1]]\n",
    "\n",
    "## Create a function that takes a skyline (2-D list of 0&#39;s and 1&#39;s) and returns the height of the tallest skyscraper.\n",
    "\n",
    "## Examples\n",
    "## tallest_skyscraper([\n",
    "## [0, 0, 0, 0],\n",
    "## [0, 1, 0, 0],\n",
    "## [0, 1, 1, 0],\n",
    "## [1, 1, 1, 1]\n",
    "## ]) ➞ 3\n",
    "## tallest_skyscraper([\n",
    "## [0, 1, 0, 0],\n",
    "## [0, 1, 0, 0],\n",
    "## [0, 1, 1, 0],\n",
    "## [1, 1, 1, 1]\n",
    "## ]) ➞ 4\n",
    "## tallest_skyscraper([\n",
    "## [0, 0, 0, 0],\n",
    "## [0, 0, 0, 0],\n",
    "## [1, 1, 1, 0],\n",
    "## [1, 1, 1, 1]\n",
    "## ]) ➞ 2"
   ]
  },
  {
   "cell_type": "markdown",
   "metadata": {},
   "source": [
    "#  "
   ]
  },
  {
   "cell_type": "markdown",
   "metadata": {},
   "source": [
    "## Ans."
   ]
  },
  {
   "cell_type": "code",
   "execution_count": 5,
   "metadata": {},
   "outputs": [],
   "source": [
    "def calculate_height(array):\n",
    "    height = len(array)\n",
    "    \n",
    "    for item in array:\n",
    "        if 1 in item:\n",
    "            return height\n",
    "        else:\n",
    "            height -= 1\n",
    "    return height"
   ]
  },
  {
   "cell_type": "code",
   "execution_count": 6,
   "metadata": {},
   "outputs": [
    {
     "name": "stdout",
     "output_type": "stream",
     "text": [
      "4\n"
     ]
    }
   ],
   "source": [
    "skyline = [[0, 0, 0, 0, 0, 0],\n",
    "           [0, 0, 0, 0, 1, 0],\n",
    "           [0, 0, 1, 0, 1, 0],\n",
    "           [0, 1, 1, 1, 1, 0],\n",
    "           [1, 1, 1, 1, 1, 1]]\n",
    "\n",
    "print(calculate_height(skyline))"
   ]
  },
  {
   "cell_type": "markdown",
   "metadata": {},
   "source": [
    "#  "
   ]
  },
  {
   "cell_type": "markdown",
   "metadata": {},
   "source": [
    "## 4. A financial institution provides professional services to banks and claims charges from the customers based on the number of man-days provided.\n",
    "## Internally, it has set a scheme to motivate and reward staff to meet and exceed targeted billable utilization and revenues by paying a bonus for each day claimed from customers in excess of a threshold target.\n",
    "## This quarterly scheme is calculated with a threshold target of 32 days per quarter, and the incentive payment for each billable day in excess of such threshold target is shown as follows:\n",
    "## Days Bonus\n",
    "## 0 to 32 days Zero\n",
    "## 33 to 40 days SGD 325 Dollars per billable day\n",
    "## 41 to 48 days SGD 550 Dollars per billable day\n",
    "## Greater than 48 days SGD 600 Dollars per billable day\n",
    "\n",
    "## Please note that incentive payment is calculated progressively. As an\n",
    "## example, if an employee reached total billable days of 45 in a quarter, his/her\n",
    "## incentive payment is computed as follows:\n",
    "## 32x0 + 8x325 + 5x550 = 5350\n",
    "## Write a function to read the billable days of an employee and return the bonus he/she has obtained in that quarter.\n",
    "\n",
    "## Examples\n",
    "## bonus(15) ➞ 0\n",
    "## bonus(37) ➞ 1625\n",
    "## bonus(50) ➞ 8200"
   ]
  },
  {
   "cell_type": "markdown",
   "metadata": {},
   "source": [
    "#  "
   ]
  },
  {
   "cell_type": "markdown",
   "metadata": {},
   "source": [
    "## Ans."
   ]
  },
  {
   "cell_type": "code",
   "execution_count": 7,
   "metadata": {},
   "outputs": [],
   "source": [
    "def bonus(days):\n",
    "    s = 0\n",
    "    day_gap = 8\n",
    "    sgd_1 = 325\n",
    "    sgd_2 = 550\n",
    "    sgd_3 = 600\n",
    "    \n",
    "    if days <= 32:\n",
    "        return s\n",
    "    \n",
    "    if days <= 40:\n",
    "        days -= 32\n",
    "        s += days * sgd_1\n",
    "        return s\n",
    "    \n",
    "    if days <= 48:\n",
    "        s += day_gap * sgd_1\n",
    "        days -= 40\n",
    "        s += days * sgd_2\n",
    "        return s\n",
    "    \n",
    "    if days > 48:\n",
    "        s += day_gap * sgd_1\n",
    "        s += day_gap * sgd_2\n",
    "        days -= 48\n",
    "        s += days * sgd_3\n",
    "        return s"
   ]
  },
  {
   "cell_type": "code",
   "execution_count": 8,
   "metadata": {},
   "outputs": [
    {
     "name": "stdout",
     "output_type": "stream",
     "text": [
      "0\n",
      "1625\n",
      "5350\n",
      "8200\n"
     ]
    }
   ],
   "source": [
    "print(bonus(15))\n",
    "print(bonus(37))\n",
    "print(bonus(45))\n",
    "print(bonus(50))"
   ]
  },
  {
   "cell_type": "markdown",
   "metadata": {},
   "source": [
    "#   "
   ]
  },
  {
   "cell_type": "markdown",
   "metadata": {},
   "source": [
    "## 5. A number is said to be Disarium if the sum of its digits raised to their respective positions is the number itself.\n",
    "## Create a function that determines whether a number is a Disarium or not.\n",
    "\n",
    "## Examples\n",
    "## is_disarium(75) ➞ False\n",
    "## # 7^1 + 5^2 = 7 + 25 = 32\n",
    "## is_disarium(135) ➞ True\n",
    "## # 1^1 + 3^2 + 5^3 = 1 + 9 + 125 = 135\n",
    "## is_disarium(544) ➞ False\n",
    "## is_disarium(518) ➞ True\n",
    "## is_disarium(466) ➞ False\n",
    "## is_disarium(8) ➞ True "
   ]
  },
  {
   "cell_type": "markdown",
   "metadata": {},
   "source": [
    "#  "
   ]
  },
  {
   "cell_type": "markdown",
   "metadata": {},
   "source": [
    "## Ans."
   ]
  },
  {
   "cell_type": "code",
   "execution_count": 9,
   "metadata": {},
   "outputs": [],
   "source": [
    "import math\n",
    "def is_disarium(number):\n",
    "    s = 0\n",
    "    for index, digit in enumerate(str(number)):\n",
    "        s += int(math.pow(int(digit), int(index)+1))\n",
    "    return s == number"
   ]
  },
  {
   "cell_type": "code",
   "execution_count": 10,
   "metadata": {},
   "outputs": [
    {
     "name": "stdout",
     "output_type": "stream",
     "text": [
      "False\n",
      "True\n",
      "False\n",
      "True\n",
      "False\n",
      "True\n"
     ]
    }
   ],
   "source": [
    "print(is_disarium(75))\n",
    "print(is_disarium(135))\n",
    "print(is_disarium(544))\n",
    "print(is_disarium(518))\n",
    "print(is_disarium(466))\n",
    "print(is_disarium(8))"
   ]
  }
 ],
 "metadata": {
  "kernelspec": {
   "display_name": "Python 3",
   "language": "python",
   "name": "python3"
  },
  "language_info": {
   "codemirror_mode": {
    "name": "ipython",
    "version": 3
   },
   "file_extension": ".py",
   "mimetype": "text/x-python",
   "name": "python",
   "nbconvert_exporter": "python",
   "pygments_lexer": "ipython3",
   "version": "3.8.3"
  }
 },
 "nbformat": 4,
 "nbformat_minor": 4
}
