{
 "cells": [
  {
   "cell_type": "markdown",
   "metadata": {},
   "source": [
    "# Assignment 2"
   ]
  },
  {
   "cell_type": "markdown",
   "metadata": {},
   "source": [
    "#  "
   ]
  },
  {
   "cell_type": "markdown",
   "metadata": {},
   "source": [
    "## 1. Write a function that takes a positive integer num and calculates how many dots exist in a pentagonal shape around the center dot on the Nth iteration.\n",
    "## In the image below you can see the first iteration is only a single dot. On the second, there are 6 dots. On the third, there are 16 dots, and on the fourth there are 31 dots.\n",
    "\n",
    "<img src=\"doodoo.png\">\n",
    "\n",
    "## Return the number of dots that exist in the whole pentagon on the Nth iteration.\n",
    "## Examples\n",
    "## pentagonal(1) ➞ 1\n",
    "## pentagonal(2) ➞ 6\n",
    "## pentagonal(3) ➞ 16\n",
    "## pentagonal(8) ➞ 141"
   ]
  },
  {
   "cell_type": "markdown",
   "metadata": {},
   "source": [
    "#  "
   ]
  },
  {
   "cell_type": "markdown",
   "metadata": {},
   "source": [
    "## Ans."
   ]
  },
  {
   "cell_type": "code",
   "execution_count": 1,
   "metadata": {},
   "outputs": [],
   "source": [
    "def count_extra_dots(n):         # n = nth iteration\n",
    "    in_between_dots = 0          # in between dots as dots between the five border dots\n",
    "    border_dots = 0              # border dots as five basic dots to make pentagon\n",
    "    for i in range(n-1):\n",
    "        in_between_dots += 5*i\n",
    "        border_dots += 5\n",
    "    return in_between_dots + border_dots\n",
    "        \n",
    "def pentagonal(n):\n",
    "    dots = count_extra_dots(n)\n",
    "    return dots + 1              # one extra dot as central dot"
   ]
  },
  {
   "cell_type": "code",
   "execution_count": 2,
   "metadata": {},
   "outputs": [
    {
     "name": "stdout",
     "output_type": "stream",
     "text": [
      "141\n"
     ]
    }
   ],
   "source": [
    "result = pentagonal(8)\n",
    "print(result)"
   ]
  },
  {
   "cell_type": "markdown",
   "metadata": {},
   "source": [
    "#  "
   ]
  },
  {
   "cell_type": "markdown",
   "metadata": {},
   "source": [
    "## 2. Make a function that encrypts a given input with these steps:\n",
    "\n",
    "## Input: &quot;apple&quot;\n",
    "### Step 1: Reverse the input: &quot;elppa&quot;\n",
    "### Step 2: Replace all vowels using the following chart:\n",
    "### a =&gt; 0\n",
    "### e =&gt; 1\n",
    "### i =&gt; 2\n",
    "### o =&gt; 2\n",
    "### u =&gt; 3\n",
    "### # &quot;1lpp0&quot;\n",
    "\n",
    "### Step 3: Add &quot;aca&quot; to the end of the word: &quot;1lpp0aca&quot;\n",
    "\n",
    "## Output: &quot;1lpp0aca&quot;\n",
    "## Examples\n",
    "## encrypt(&quot;banana&quot;) ➞ &quot;0n0n0baca&quot;\n",
    "## encrypt(&quot;karaca&quot;) ➞ &quot;0c0r0kaca&quot;\n",
    "## encrypt(&quot;burak&quot;) ➞ &quot;k0r3baca&quot;\n",
    "## encrypt(&quot;alpaca&quot;) ➞ &quot;0c0pl0aca&quot;"
   ]
  },
  {
   "cell_type": "markdown",
   "metadata": {},
   "source": [
    "#  "
   ]
  },
  {
   "cell_type": "markdown",
   "metadata": {},
   "source": [
    "## Ans."
   ]
  },
  {
   "cell_type": "code",
   "execution_count": 3,
   "metadata": {},
   "outputs": [],
   "source": [
    "#reference dictionary\n",
    "chart = {\n",
    "    'a' : '0',\n",
    "    'e' : '1',\n",
    "    'i' : '2',\n",
    "    'o' : '3',\n",
    "    'u' : '4'\n",
    "}\n",
    "\n",
    "\n",
    "def encrypt(word):\n",
    "    l = []\n",
    "    for letter in word:                    #step 1\n",
    "        l.append(letter)\n",
    "    l = l[::-1]\n",
    "    \n",
    "    for index, letter in enumerate(l):     #step 2\n",
    "        if letter in chart.keys():\n",
    "            l[index] = chart[letter]\n",
    "    \n",
    "    result = ''.join(l)+'aca'              #step 3\n",
    "    \n",
    "    return result"
   ]
  },
  {
   "cell_type": "code",
   "execution_count": 4,
   "metadata": {},
   "outputs": [
    {
     "name": "stdout",
     "output_type": "stream",
     "text": [
      "1lpp0aca\n",
      "0n0n0baca\n",
      "0c0r0kaca\n",
      "k0r4baca\n",
      "0c0pl0aca\n"
     ]
    }
   ],
   "source": [
    "result = encrypt('apple')\n",
    "print(result)\n",
    "\n",
    "print(encrypt(\"banana\"))\n",
    "print(encrypt(\"karaca\"))\n",
    "print(encrypt(\"burak\"))\n",
    "print(encrypt(\"alpaca\"))"
   ]
  },
  {
   "cell_type": "markdown",
   "metadata": {},
   "source": [
    "#  "
   ]
  },
  {
   "cell_type": "markdown",
   "metadata": {},
   "source": [
    "## 3. Given the month and year as numbers, return whether that month contains a Friday 13th.(i.e You can check Python&#39;s datetime module)\n",
    "\n",
    "## Examples\n",
    "## has_friday_13(3, 2020) ➞ True\n",
    "## has_friday_13(10, 2017) ➞ True\n",
    "## has_friday_13(1, 1985) ➞ False"
   ]
  },
  {
   "cell_type": "markdown",
   "metadata": {},
   "source": [
    "#  "
   ]
  },
  {
   "cell_type": "markdown",
   "metadata": {},
   "source": [
    "## Ans."
   ]
  },
  {
   "cell_type": "code",
   "execution_count": 5,
   "metadata": {},
   "outputs": [],
   "source": [
    "import datetime    \n",
    "\n",
    "def has_friday_13(month, year):  \n",
    "    return datetime.datetime.strptime('13 '+' '+str(month)+' '+str(year), '%d %m %Y').weekday()==4"
   ]
  },
  {
   "cell_type": "code",
   "execution_count": 6,
   "metadata": {},
   "outputs": [
    {
     "name": "stdout",
     "output_type": "stream",
     "text": [
      "True\n",
      "True\n",
      "False\n"
     ]
    }
   ],
   "source": [
    "print(has_friday_13(3, 2020))\n",
    "print(has_friday_13(10, 2017))\n",
    "print(has_friday_13(1, 1985))"
   ]
  },
  {
   "cell_type": "markdown",
   "metadata": {},
   "source": [
    "#  "
   ]
  },
  {
   "cell_type": "markdown",
   "metadata": {},
   "source": [
    "## 4. Write a regular expression that will help us count how many bad cookies are produced every day. You must use RegEx negative lookbehind.\n",
    "\n",
    "## Example\n",
    "## lst = [&quot;bad cookie&quot;, &quot;good cookie&quot;, &quot;bad cookie&quot;, &quot;good cookie&quot;, &quot;good cookie&quot;]\n",
    "## pattern = &quot;yourregularexpressionhere&quot;\n",
    "## len(re.findall(pattern, &quot;, &quot;.join(lst))) ➞ 2"
   ]
  },
  {
   "cell_type": "markdown",
   "metadata": {},
   "source": [
    "#  "
   ]
  },
  {
   "cell_type": "code",
   "execution_count": 7,
   "metadata": {},
   "outputs": [
    {
     "name": "stdout",
     "output_type": "stream",
     "text": [
      "2\n"
     ]
    }
   ],
   "source": [
    "import re\n",
    "\n",
    "pattern = r'(?<!cookie)bad'\n",
    "lst = [\"bad cookie\", \"good cookie\", \"bad cookie\", \"good cookie\", \"good cookie\"]\n",
    "\n",
    "print(len(re.findall(pattern, \", \".join(lst))))"
   ]
  },
  {
   "cell_type": "markdown",
   "metadata": {},
   "source": [
    "#  "
   ]
  },
  {
   "cell_type": "markdown",
   "metadata": {},
   "source": [
    "## 5. Given a list of words in the singular form, return a set of those words in the plural form if they appear more than once in the list.\n",
    "\n",
    "## Examples\n",
    "## pluralize([&quot;cow&quot;, &quot;pig&quot;, &quot;cow&quot;, &quot;cow&quot;]) ➞ { &quot;cows&quot;, &quot;pig&quot; }\n",
    "## pluralize([&quot;table&quot;, &quot;table&quot;, &quot;table&quot;]) ➞ { &quot;tables&quot; }\n",
    "\n",
    "## pluralize([&quot;chair&quot;, &quot;pencil&quot;, &quot;arm&quot;]) ➞ { &quot;chair&quot;, &quot;pencil&quot;, &quot;arm&quot; }"
   ]
  },
  {
   "cell_type": "markdown",
   "metadata": {},
   "source": [
    "#  "
   ]
  },
  {
   "cell_type": "markdown",
   "metadata": {},
   "source": [
    "## Ans."
   ]
  },
  {
   "cell_type": "code",
   "execution_count": 8,
   "metadata": {},
   "outputs": [],
   "source": [
    "def pluralize(wordlist):\n",
    "    \n",
    "    freq = dict()        #creating frequency dictionary to keep track of count\n",
    "    s = set()            #creating empty set\n",
    "\n",
    "    for word in wordlist:\n",
    "        if word in freq.keys():\n",
    "            freq[word] += 1\n",
    "        else:\n",
    "            freq[word] = 1\n",
    "            \n",
    "    for word in freq.keys():\n",
    "        if freq[word] > 1:\n",
    "            word = word + 's'\n",
    "        s.add(word)\n",
    "    \n",
    "    return s"
   ]
  },
  {
   "cell_type": "code",
   "execution_count": 9,
   "metadata": {},
   "outputs": [
    {
     "name": "stdout",
     "output_type": "stream",
     "text": [
      "{'cows', 'pig'}\n",
      "{'tables'}\n",
      "{'pencil', 'chair', 'arm'}\n"
     ]
    }
   ],
   "source": [
    "print(pluralize([\"cow\", \"pig\", \"cow\", \"cow\"]))\n",
    "print(pluralize([\"table\", \"table\", \"table\"]))\n",
    "print(pluralize([\"chair\", \"pencil\", \"arm\"]))"
   ]
  }
 ],
 "metadata": {
  "kernelspec": {
   "display_name": "Python 3",
   "language": "python",
   "name": "python3"
  },
  "language_info": {
   "codemirror_mode": {
    "name": "ipython",
    "version": 3
   },
   "file_extension": ".py",
   "mimetype": "text/x-python",
   "name": "python",
   "nbconvert_exporter": "python",
   "pygments_lexer": "ipython3",
   "version": "3.8.3"
  }
 },
 "nbformat": 4,
 "nbformat_minor": 4
}
