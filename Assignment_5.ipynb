{
 "cells": [
  {
   "cell_type": "markdown",
   "metadata": {},
   "source": [
    "# Assignment 5"
   ]
  },
  {
   "cell_type": "markdown",
   "metadata": {},
   "source": [
    "#   "
   ]
  },
  {
   "cell_type": "markdown",
   "metadata": {},
   "source": [
    "## 1. Create a function that takes a number n (integer greater than zero) as an argument, and returns 2 if n is odd and 8 if n is even.\n",
    "## You can only use the following arithmetic operators: addition of numbers +, subtraction of numbers -, multiplication of number \\*, division of number /, and exponentiation **.\n",
    "## You are not allowed to use any other methods in this challenge (i.e. no if statements, comparison operators, etc).\n",
    "## Examples\n",
    "## f(1) ➞ 2\n",
    "## f(2) ➞ 8\n",
    "## f(3) ➞ 2"
   ]
  },
  {
   "cell_type": "markdown",
   "metadata": {},
   "source": [
    "#  "
   ]
  },
  {
   "cell_type": "markdown",
   "metadata": {},
   "source": [
    "## Ans."
   ]
  },
  {
   "cell_type": "code",
   "execution_count": 1,
   "metadata": {},
   "outputs": [],
   "source": [
    "def f(number):\n",
    "    return 4**(number%2) * 2"
   ]
  },
  {
   "cell_type": "code",
   "execution_count": 2,
   "metadata": {},
   "outputs": [
    {
     "name": "stdout",
     "output_type": "stream",
     "text": [
      "2\n",
      "8\n",
      "2\n",
      "8\n"
     ]
    }
   ],
   "source": [
    "print(f(370))\n",
    "print(f(1))\n",
    "print(f(2))\n",
    "print(f(3))"
   ]
  },
  {
   "cell_type": "markdown",
   "metadata": {},
   "source": [
    "#  "
   ]
  },
  {
   "cell_type": "markdown",
   "metadata": {},
   "source": [
    "## 2. Create a function that returns the majority vote in a list. A majority vote is an element that occurs &gt; N/2 times in a list (where N is the length of the list).\n",
    "## Examples\n",
    "## majority_vote([&quot;A&quot;, &quot;A&quot;, &quot;B&quot;]) ➞ &quot;A&quot;\n",
    "## majority_vote([&quot;A&quot;, &quot;A&quot;, &quot;A&quot;, &quot;B&quot;, &quot;C&quot;, &quot;A&quot;]) ➞ &quot;A&quot;\n",
    "## majority_vote([&quot;A&quot;, &quot;B&quot;, &quot;B&quot;, &quot;A&quot;, &quot;C&quot;, &quot;C&quot;]) ➞ None"
   ]
  },
  {
   "cell_type": "markdown",
   "metadata": {},
   "source": [
    "#  "
   ]
  },
  {
   "cell_type": "markdown",
   "metadata": {},
   "source": [
    "## Ans."
   ]
  },
  {
   "cell_type": "code",
   "execution_count": 3,
   "metadata": {},
   "outputs": [],
   "source": [
    "def majority_vote(vote_list):\n",
    "    for item in set(vote_list):\n",
    "        if vote_list.count(item) > len(vote_list)//2:\n",
    "            return item"
   ]
  },
  {
   "cell_type": "code",
   "execution_count": 4,
   "metadata": {},
   "outputs": [
    {
     "name": "stdout",
     "output_type": "stream",
     "text": [
      "A\n",
      "A\n",
      "None\n"
     ]
    }
   ],
   "source": [
    "print(majority_vote([\"A\", \"A\", \"B\"]))\n",
    "print(majority_vote([\"A\", \"A\", \"A\", \"B\", \"C\", \"A\"]))\n",
    "print(majority_vote([\"A\", \"B\", \"B\", \"A\", \"C\", \"C\"]))"
   ]
  },
  {
   "cell_type": "markdown",
   "metadata": {},
   "source": [
    "#  "
   ]
  },
  {
   "cell_type": "markdown",
   "metadata": {},
   "source": [
    "## 3. Create a function that takes a string txt and censors any word from a given list lst. The text removed must be replaced by the given character char.\n",
    "## Examples\n",
    "## censor_string(&quot;Today is a Wednesday!&quot;, [&quot;Today&quot;, &quot;a&quot;], &quot;-&quot;) ➞ &quot;----- is - Wednesday!&quot;\n",
    "## censor_string(&quot;The cow jumped over the moon.&quot;, [&quot;cow&quot;, &quot;over&quot;], &quot;\\*&quot;), &quot;The \\*** jumped \\**** the moon.&quot;)\n",
    "## censor_string(&quot;Why did the chicken cross the road?&quot;, [&quot;Did&quot;, &quot;chicken&quot;, &quot;road&quot;], &quot;\\*&quot;) ➞ &quot;Why \\*** the \\******* cross the ****?&quot;"
   ]
  },
  {
   "cell_type": "markdown",
   "metadata": {},
   "source": [
    "#  "
   ]
  },
  {
   "cell_type": "markdown",
   "metadata": {},
   "source": [
    "## Ans."
   ]
  },
  {
   "cell_type": "code",
   "execution_count": 5,
   "metadata": {},
   "outputs": [],
   "source": [
    "import re\n",
    "\n",
    "def censor_string(string, lst, char):\n",
    "    s = ''\n",
    "    lst = [x.lower() for x in lst]\n",
    "    string_without_punctuation = re.sub(r'[^\\w\\s]','',string)\n",
    "    for word in string_without_punctuation.split(' '):\n",
    "        if word.lower() in lst:\n",
    "            s += char*len(word)\n",
    "            s += ' '\n",
    "        else:\n",
    "            s += word\n",
    "            s += ' '\n",
    "    return s"
   ]
  },
  {
   "cell_type": "code",
   "execution_count": 6,
   "metadata": {},
   "outputs": [
    {
     "name": "stdout",
     "output_type": "stream",
     "text": [
      "----- is - Wednesday \n",
      "The *** jumped **** the moon \n",
      "Why *** the ******* cross the **** \n"
     ]
    }
   ],
   "source": [
    "print(censor_string(\"Today is a Wednesday!\", [\"Today\", \"a\"], \"-\"))\n",
    "print(censor_string(\"The cow jumped over the moon.\", [\"cow\", \"over\"], \"*\"))\n",
    "print(censor_string(\"Why did the chicken cross the road?\", [\"Did\", \"chicken\", \"road\"], \"*\"))"
   ]
  },
  {
   "cell_type": "markdown",
   "metadata": {},
   "source": [
    "#  "
   ]
  },
  {
   "cell_type": "markdown",
   "metadata": {},
   "source": [
    "## 4. In mathematics a Polydivisible Number (or magic number) is a number in a given number base with digits abcde... that has the following properties:\n",
    "## - Its first digit a is not 0.\n",
    "## - The number formed by its first two digits ab is a multiple of 2.\n",
    "## - The number formed by its first three digits abc is a multiple of 3.\n",
    "## - The number formed by its first four digits abcd is a multiple of 4.\n",
    "## Create a function which takes an integer n and returns True if the given number is a Polydivisible Number and False otherwise.\n",
    "## Examples\n",
    "## is_polydivisible(1232) ➞ True\n",
    "## # 1 / 1 = 1\n",
    "## # 12 / 2 = 6\n",
    "## # 123 / 3 = 41\n",
    "## # 1232 / 4 = 308\n",
    "\n",
    "## is_polydivisible(123220 ) ➞ False\n",
    "## # 1 / 1 = 1\n",
    "## # 12 / 2 = 6\n",
    "## # 123 / 3 = 41\n",
    "## # 1232 / 4 = 308\n",
    "## # 12322 / 5 = 2464.4 # Not a Whole Number\n",
    "## # 123220 /6 = 220536.333... # Not a Whole Number"
   ]
  },
  {
   "cell_type": "markdown",
   "metadata": {},
   "source": [
    "#  "
   ]
  },
  {
   "cell_type": "markdown",
   "metadata": {},
   "source": [
    "## Ans."
   ]
  },
  {
   "cell_type": "code",
   "execution_count": 7,
   "metadata": {},
   "outputs": [],
   "source": [
    "def is_polydivisible(number):\n",
    "    \n",
    "    l = len(str(number))\n",
    "    i = l                     \n",
    "    flag = True\n",
    "    j = l\n",
    "    while(l and i):                  \n",
    "        n = 10**(j-1)\n",
    "        num = number//n\n",
    "        \n",
    "        if (num % (l-i+1)):\n",
    "            flag = False\n",
    "            break\n",
    "        \n",
    "        j-=1                   \n",
    "        i = j                   \n",
    "\n",
    "    return flag"
   ]
  },
  {
   "cell_type": "code",
   "execution_count": 8,
   "metadata": {},
   "outputs": [
    {
     "name": "stdout",
     "output_type": "stream",
     "text": [
      "True\n",
      "False\n"
     ]
    }
   ],
   "source": [
    "print(is_polydivisible(1232))\n",
    "print(is_polydivisible(123220))"
   ]
  },
  {
   "cell_type": "markdown",
   "metadata": {},
   "source": [
    "#  "
   ]
  },
  {
   "cell_type": "markdown",
   "metadata": {},
   "source": [
    "## 5. Create a function that takes a list of numbers and returns the sum of all prime numbers in the list.\n",
    "## Examples\n",
    "## sum_primes([1, 2, 3, 4, 5, 6, 7, 8, 9, 10]) ➞ 17\n",
    "## sum_primes([2, 3, 4, 11, 20, 50, 71]) ➞ 87\n",
    "## sum_primes([]) ➞ None"
   ]
  },
  {
   "cell_type": "markdown",
   "metadata": {},
   "source": [
    "#  "
   ]
  },
  {
   "cell_type": "markdown",
   "metadata": {},
   "source": [
    "## Ans."
   ]
  },
  {
   "cell_type": "code",
   "execution_count": 9,
   "metadata": {},
   "outputs": [],
   "source": [
    "def is_prime(number) :\n",
    " \n",
    "    if (number <= 1) :\n",
    "        return False\n",
    "    if (number <= 3) :\n",
    "        return True\n",
    " \n",
    "    if (number % 2 == 0 or number % 3 == 0) :  # This is checked so that we can skip middle five numbers in below loop\n",
    "        return False\n",
    " \n",
    "    i = 5\n",
    "    while(i * i <= number) :\n",
    "        if (number % i == 0 or number % (i + 2) == 0) :\n",
    "            return False\n",
    "        i = i + 6\n",
    " \n",
    "    return True\n",
    "\n",
    "def sum_primes(lst):\n",
    "    if not(lst):\n",
    "        return None\n",
    "    s = 0\n",
    "    for number in lst:\n",
    "        if is_prime(number):\n",
    "            s += number\n",
    "    return s"
   ]
  },
  {
   "cell_type": "code",
   "execution_count": 10,
   "metadata": {},
   "outputs": [
    {
     "name": "stdout",
     "output_type": "stream",
     "text": [
      "17\n",
      "87\n",
      "None\n"
     ]
    }
   ],
   "source": [
    "print(sum_primes([1, 2, 3, 4, 5, 6, 7, 8, 9, 10]))\n",
    "print(sum_primes([2, 3, 4, 11, 20, 50, 71]))\n",
    "print(sum_primes([]))"
   ]
  }
 ],
 "metadata": {
  "kernelspec": {
   "display_name": "Python 3",
   "language": "python",
   "name": "python3"
  },
  "language_info": {
   "codemirror_mode": {
    "name": "ipython",
    "version": 3
   },
   "file_extension": ".py",
   "mimetype": "text/x-python",
   "name": "python",
   "nbconvert_exporter": "python",
   "pygments_lexer": "ipython3",
   "version": "3.8.3"
  }
 },
 "nbformat": 4,
 "nbformat_minor": 4
}
